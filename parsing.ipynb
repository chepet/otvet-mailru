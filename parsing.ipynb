{
 "cells": [
  {
   "cell_type": "code",
   "execution_count": 1,
   "metadata": {
    "collapsed": true
   },
   "outputs": [],
   "source": [
    "import requests\n",
    "from bs4 import BeautifulSoup"
   ]
  },
  {
   "cell_type": "code",
   "execution_count": 2,
   "metadata": {
    "collapsed": true
   },
   "outputs": [],
   "source": [
    "start_url = 'https://otvet.mail.ru'"
   ]
  },
  {
   "cell_type": "code",
   "execution_count": 3,
   "metadata": {
    "collapsed": true
   },
   "outputs": [],
   "source": [
    "def get_last_question_id(start_url = start_url):\n",
    "    html = requests.get(start_url).text\n",
    "    soup = BeautifulSoup(html, 'lxml')\n",
    "    try:\n",
    "        id = soup.find_all(attrs = {'class' : 'q--li--text'})[0].get('href').split('/')[-1]\n",
    "    except:\n",
    "        id = 196033058\n",
    "    return id"
   ]
  },
  {
   "cell_type": "code",
   "execution_count": 4,
   "metadata": {
    "collapsed": true
   },
   "outputs": [],
   "source": [
    "def make_question_url(question_id, start_url = start_url):\n",
    "    url = \"{}/question/{}\".format(start_url, question_id)\n",
    "    return url"
   ]
  },
  {
   "cell_type": "code",
   "execution_count": 5,
   "metadata": {
    "collapsed": true
   },
   "outputs": [],
   "source": [
    "def get_question(id):\n",
    "    url = make_question_url(id)\n",
    "    \n",
    "    html = requests.get(url).text\n",
    "    soup = BeautifulSoup(html, 'lxml')\n",
    "    text = soup.h1.text.strip()\n",
    "    return text"
   ]
  },
  {
   "cell_type": "code",
   "execution_count": 6,
   "metadata": {
    "collapsed": true
   },
   "outputs": [],
   "source": [
    "def save_question(text, id):\n",
    "    with open('questions/{}.txt'.format(id), 'w') as f:\n",
    "        f.write(text)"
   ]
  },
  {
   "cell_type": "code",
   "execution_count": 7,
   "metadata": {
    "collapsed": true
   },
   "outputs": [],
   "source": [
    "def get_save_question(id):\n",
    "    try:\n",
    "        text = get_question(id)\n",
    "        save_question(text, id)\n",
    "    except:\n",
    "        text = None\n",
    "    return text"
   ]
  },
  {
   "cell_type": "code",
   "execution_count": 10,
   "metadata": {
    "collapsed": false
   },
   "outputs": [
    {
     "name": "stdout",
     "output_type": "stream",
     "text": [
      "196033058\n",
      "https://otvet.mail.ru/question/196033058\n",
      "Как называют женщин которые любят мужчин младше их ?:D\n"
     ]
    }
   ],
   "source": [
    "last_id = get_last_question_id()\n",
    "print(last_id)\n",
    "\n",
    "url = make_question_url(last_id)\n",
    "print(url)\n",
    "\n",
    "print(get_question(last_id))"
   ]
  },
  {
   "cell_type": "code",
   "execution_count": 35,
   "metadata": {
    "collapsed": true
   },
   "outputs": [],
   "source": [
    "# %mkdir questions"
   ]
  },
  {
   "cell_type": "code",
   "execution_count": 13,
   "metadata": {
    "collapsed": false
   },
   "outputs": [
    {
     "name": "stdout",
     "output_type": "stream",
     "text": [
      "196024000\n",
      "196025000\n",
      "196026000\n",
      "196027000\n",
      "196028000\n",
      "196029000\n",
      "196030000\n",
      "196031000\n",
      "196032000\n",
      "196033000\n"
     ]
    }
   ],
   "source": [
    "for id in range(last_id - 10000, last_id):\n",
    "    if id % 1000 == 0:\n",
    "        print(id)\n",
    "    get_save_question(id + 1)"
   ]
  },
  {
   "cell_type": "code",
   "execution_count": 9,
   "metadata": {
    "collapsed": false
   },
   "outputs": [],
   "source": [
    "# %debug"
   ]
  },
  {
   "cell_type": "code",
   "execution_count": null,
   "metadata": {
    "collapsed": true
   },
   "outputs": [],
   "source": []
  }
 ],
 "metadata": {
  "kernelspec": {
   "display_name": "Python 3",
   "language": "python",
   "name": "python3"
  },
  "language_info": {
   "codemirror_mode": {
    "name": "ipython",
    "version": 3
   },
   "file_extension": ".py",
   "mimetype": "text/x-python",
   "name": "python",
   "nbconvert_exporter": "python",
   "pygments_lexer": "ipython3",
   "version": "3.5.2"
  }
 },
 "nbformat": 4,
 "nbformat_minor": 1
}
