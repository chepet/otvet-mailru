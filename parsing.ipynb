{
 "cells": [
  {
   "cell_type": "code",
   "execution_count": 1,
   "metadata": {
    "collapsed": true
   },
   "outputs": [],
   "source": [
    "import os, re\n",
    "import requests\n",
    "from bs4 import BeautifulSoup"
   ]
  },
  {
   "cell_type": "code",
   "execution_count": 2,
   "metadata": {
    "collapsed": true
   },
   "outputs": [],
   "source": [
    "START_URL = 'https://otvet.mail.ru'\n",
    "QUESTIONS_DIR = 'questions'"
   ]
  },
  {
   "cell_type": "code",
   "execution_count": 3,
   "metadata": {
    "collapsed": true
   },
   "outputs": [],
   "source": [
    "def get_last_question_id():\n",
    "    \"\"\"Doesn't work properly (returns 196033058).\"\"\"\n",
    "    html = requests.get(START_URL).text\n",
    "    soup = BeautifulSoup(html, 'lxml')\n",
    "    try:\n",
    "        id = soup.find_all(attrs = {'class' : 'q--li--text'})[0].get('href').split('/')[-1]\n",
    "    except:\n",
    "        id = 196033058\n",
    "    return id"
   ]
  },
  {
   "cell_type": "code",
   "execution_count": 4,
   "metadata": {
    "collapsed": true
   },
   "outputs": [],
   "source": [
    "def make_question_url(question_id):\n",
    "    url = \"{}/question/{}\".format(START_URL, question_id)\n",
    "    return url"
   ]
  },
  {
   "cell_type": "code",
   "execution_count": 5,
   "metadata": {
    "collapsed": true
   },
   "outputs": [],
   "source": [
    "def get_question(id):\n",
    "    url = make_question_url(id)  \n",
    "    html = requests.get(url).text\n",
    "    soup = BeautifulSoup(html, 'lxml')\n",
    "    text = soup.h1.text.strip()\n",
    "    return text\n",
    "\n",
    "def save_question(text, id):\n",
    "    with open('questions/{}.txt'.format(id), 'w') as f:\n",
    "        f.write(text)\n",
    "\n",
    "def get_save_question(id):\n",
    "    try:\n",
    "        text = get_question(id)\n",
    "        save_question(text, id)\n",
    "    except:\n",
    "        text = None\n",
    "    return text"
   ]
  },
  {
   "cell_type": "code",
   "execution_count": 6,
   "metadata": {
    "collapsed": false
   },
   "outputs": [
    {
     "name": "stdout",
     "output_type": "stream",
     "text": [
      "196033058\n",
      "https://otvet.mail.ru/question/196033058\n",
      "Как называют женщин которые любят мужчин младше их ?:D\n"
     ]
    }
   ],
   "source": [
    "last_id = get_last_question_id()\n",
    "print(last_id)\n",
    "\n",
    "url = make_question_url(last_id)\n",
    "print(url)\n",
    "\n",
    "print(get_question(last_id))"
   ]
  },
  {
   "cell_type": "code",
   "execution_count": 7,
   "metadata": {
    "collapsed": true
   },
   "outputs": [],
   "source": [
    "# %mkdir questions"
   ]
  },
  {
   "cell_type": "code",
   "execution_count": 8,
   "metadata": {
    "collapsed": false
   },
   "outputs": [],
   "source": [
    "def qet_question_filenames():\n",
    "    question_files = list(filter(lambda f: f.endswith('.txt'), os.listdir(QUESTIONS_DIR)))\n",
    "    print('files in /{}/: {}'.format(QUESTIONS_DIR, len(question_files)))\n",
    "    return question_files\n",
    "\n",
    "def get_question_ids(question_files):\n",
    "    question_ids = [int(re.sub('\\.txt', '', f)) for f in question_files]\n",
    "    question_ids.sort()\n",
    "    return question_ids\n",
    "\n",
    "def get_start_end():\n",
    "    q_filenames = qet_question_filenames()\n",
    "    q_ids = get_question_ids(q_filenames)\n",
    "    \n",
    "    min_id = min(q_ids)\n",
    "\n",
    "    end   = min_id\n",
    "    if end <= 10000: \n",
    "        start = 0\n",
    "    else:            \n",
    "        start = min_id - 10000\n",
    "    \n",
    "    return start, end"
   ]
  },
  {
   "cell_type": "code",
   "execution_count": 9,
   "metadata": {
    "collapsed": true
   },
   "outputs": [],
   "source": [
    "def main():\n",
    "    start, end = get_start_end()\n",
    "    \n",
    "    print('=' * 20)\n",
    "    print('Starting: #{}'.format(start))\n",
    "    \n",
    "    for id in range(start, end):\n",
    "        if id % 500 == 0:\n",
    "            print('{} ({}%)'.format(id, round((id - start) * 100/(end - start), 1)))\n",
    "        get_save_question(id + 1)\n",
    "    \n",
    "    print('Finishing: #{}'.format(end))"
   ]
  },
  {
   "cell_type": "code",
   "execution_count": 10,
   "metadata": {
    "collapsed": false
   },
   "outputs": [],
   "source": [
    "# main()"
   ]
  },
  {
   "cell_type": "code",
   "execution_count": 11,
   "metadata": {
    "collapsed": false
   },
   "outputs": [],
   "source": [
    "# %debug"
   ]
  },
  {
   "cell_type": "code",
   "execution_count": null,
   "metadata": {
    "collapsed": true
   },
   "outputs": [],
   "source": []
  }
 ],
 "metadata": {
  "anaconda-cloud": {},
  "kernelspec": {
   "display_name": "Python 3",
   "language": "python",
   "name": "python3"
  },
  "language_info": {
   "codemirror_mode": {
    "name": "ipython",
    "version": 3
   },
   "file_extension": ".py",
   "mimetype": "text/x-python",
   "name": "python",
   "nbconvert_exporter": "python",
   "pygments_lexer": "ipython3",
   "version": "3.5.2"
  }
 },
 "nbformat": 4,
 "nbformat_minor": 1
}
