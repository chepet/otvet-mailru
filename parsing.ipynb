{
 "cells": [
  {
   "cell_type": "code",
   "execution_count": 1,
   "metadata": {
    "collapsed": true
   },
   "outputs": [],
   "source": [
    "import requests\n",
    "from bs4 import BeautifulSoup"
   ]
  },
  {
   "cell_type": "code",
   "execution_count": 2,
   "metadata": {
    "collapsed": true
   },
   "outputs": [],
   "source": [
    "start_url = 'https://otvet.mail.ru'"
   ]
  },
  {
   "cell_type": "code",
   "execution_count": 3,
   "metadata": {
    "collapsed": true
   },
   "outputs": [],
   "source": [
    "def get_last_question_id(start_url = start_url):\n",
    "    html = requests.get(start_url).text\n",
    "    soup = BeautifulSoup(html, 'lxml')\n",
    "    try:\n",
    "        id = soup.find_all(attrs = {'class' : 'q--li--text'})[0].get('href').split('/')[-1]\n",
    "    except:\n",
    "        id = 196033058\n",
    "    return id"
   ]
  },
  {
   "cell_type": "code",
   "execution_count": 4,
   "metadata": {
    "collapsed": true
   },
   "outputs": [],
   "source": [
    "def make_question_url(question_id, start_url = start_url):\n",
    "    url = \"{}/question/{}\".format(start_url, question_id)\n",
    "    return url"
   ]
  },
  {
   "cell_type": "code",
   "execution_count": 5,
   "metadata": {
    "collapsed": true
   },
   "outputs": [],
   "source": [
    "def get_question(id):\n",
    "    url = make_question_url(id)\n",
    "    \n",
    "    html = requests.get(url).text\n",
    "    soup = BeautifulSoup(html, 'lxml')\n",
    "    text = soup.h1.text.strip()\n",
    "    return text"
   ]
  },
  {
   "cell_type": "code",
   "execution_count": 6,
   "metadata": {
    "collapsed": true
   },
   "outputs": [],
   "source": [
    "def save_question(text, id):\n",
    "    with open('questions/{}.txt'.format(id), 'w') as f:\n",
    "        f.write(text)"
   ]
  },
  {
   "cell_type": "code",
   "execution_count": 7,
   "metadata": {
    "collapsed": true
   },
   "outputs": [],
   "source": [
    "def get_save_question(id):\n",
    "    try:\n",
    "        text = get_question(id)\n",
    "        save_question(text, id)\n",
    "    except:\n",
    "        text = None\n",
    "    return text"
   ]
  },
  {
   "cell_type": "code",
   "execution_count": 8,
   "metadata": {
    "collapsed": false
   },
   "outputs": [
    {
     "name": "stdout",
     "output_type": "stream",
     "text": [
      "196033058\n",
      "https://otvet.mail.ru/question/196033058\n",
      "Как называют женщин которые любят мужчин младше их ?:D\n"
     ]
    }
   ],
   "source": [
    "last_id = get_last_question_id()\n",
    "print(last_id)\n",
    "\n",
    "url = make_question_url(last_id)\n",
    "print(url)\n",
    "\n",
    "print(get_question(last_id))"
   ]
  },
  {
   "cell_type": "code",
   "execution_count": 9,
   "metadata": {
    "collapsed": true
   },
   "outputs": [],
   "source": [
    "# %mkdir questions"
   ]
  },
  {
   "cell_type": "markdown",
   "metadata": {},
   "source": [
    "Check: \n",
    "\n",
    "* [1 : 10000]\n",
    "* [195880000 : 196033058]"
   ]
  },
  {
   "cell_type": "code",
   "execution_count": 15,
   "metadata": {
    "collapsed": false,
    "scrolled": false
   },
   "outputs": [
    {
     "name": "stdout",
     "output_type": "stream",
     "text": [
      "195880000 (0.0%)\n",
      "195880500 (5.0%)\n",
      "195881000 (10.0%)\n",
      "195881500 (15.0%)\n",
      "195882000 (20.0%)\n",
      "195882500 (25.0%)\n",
      "195883000 (30.0%)\n",
      "195883500 (35.0%)\n",
      "195884000 (40.0%)\n",
      "195884500 (45.0%)\n",
      "195885000 (50.0%)\n",
      "195885500 (55.0%)\n",
      "195886000 (60.0%)\n",
      "195886500 (65.0%)\n",
      "195887000 (70.0%)\n",
      "195887500 (75.0%)\n",
      "195888000 (80.0%)\n",
      "195888500 (85.0%)\n",
      "195889000 (90.0%)\n",
      "195889500 (95.0%)\n"
     ]
    }
   ],
   "source": [
    "start = 195880000 # 195880000 было\n",
    "end   = 195890000 # 195890000 было\n",
    "\n",
    "for id in range(start, end):\n",
    "    if id % 500 == 0:\n",
    "        print('{} ({}%)'.format(id, round((id - start) * 100/(end - start), 1)))\n",
    "    get_save_question(id + 1)"
   ]
  },
  {
   "cell_type": "code",
   "execution_count": 11,
   "metadata": {
    "collapsed": false
   },
   "outputs": [],
   "source": [
    "# %debug"
   ]
  },
  {
   "cell_type": "code",
   "execution_count": null,
   "metadata": {
    "collapsed": true
   },
   "outputs": [],
   "source": []
  }
 ],
 "metadata": {
  "anaconda-cloud": {},
  "kernelspec": {
   "display_name": "Python 3",
   "language": "python",
   "name": "python3"
  },
  "language_info": {
   "codemirror_mode": {
    "name": "ipython",
    "version": 3
   },
   "file_extension": ".py",
   "mimetype": "text/x-python",
   "name": "python",
   "nbconvert_exporter": "python",
   "pygments_lexer": "ipython3",
   "version": "3.5.2"
  }
 },
 "nbformat": 4,
 "nbformat_minor": 1
}
